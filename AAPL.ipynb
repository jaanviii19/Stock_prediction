{
  "nbformat": 4,
  "nbformat_minor": 0,
  "metadata": {
    "colab": {
      "name": "AAPL.ipynb",
      "provenance": []
    },
    "kernelspec": {
      "name": "python3",
      "display_name": "Python 3"
    },
    "language_info": {
      "name": "python"
    }
  },
  "cells": [
    {
      "cell_type": "code",
      "metadata": {
        "id": "1sMPHhCneYVx"
      },
      "source": [
        "import pandas as pd\n",
        "import matplotlib.pyplot as plt\n",
        "%matplotlib inline\n",
        "import numpy as np\n",
        "import tensorflow as tf\n",
        "from tensorflow.keras.models import Sequential\n",
        "from tensorflow.keras.layers import Dense\n",
        "from tensorflow.keras.layers import LSTM\n",
        "from sklearn.metrics import confusion_matrix, accuracy_score\n",
        "from tensorflow.keras import layers"
      ],
      "execution_count": 1,
      "outputs": []
    },
    {
      "cell_type": "markdown",
      "metadata": {
        "id": "KNDXX8kv-Nmo"
      },
      "source": [
        "**Load data**"
      ]
    },
    {
      "cell_type": "code",
      "metadata": {
        "id": "K_UsJET2etsX",
        "colab": {
          "base_uri": "https://localhost:8080/",
          "height": 206
        },
        "outputId": "63312d4c-591a-4321-e113-3c217fb493d2"
      },
      "source": [
        "df = pd.read_csv('GOOGL.csv')\n",
        "df.head()"
      ],
      "execution_count": 2,
      "outputs": [
        {
          "output_type": "execute_result",
          "data": {
            "text/html": [
              "<div>\n",
              "<style scoped>\n",
              "    .dataframe tbody tr th:only-of-type {\n",
              "        vertical-align: middle;\n",
              "    }\n",
              "\n",
              "    .dataframe tbody tr th {\n",
              "        vertical-align: top;\n",
              "    }\n",
              "\n",
              "    .dataframe thead th {\n",
              "        text-align: right;\n",
              "    }\n",
              "</style>\n",
              "<table border=\"1\" class=\"dataframe\">\n",
              "  <thead>\n",
              "    <tr style=\"text-align: right;\">\n",
              "      <th></th>\n",
              "      <th>Date</th>\n",
              "      <th>Open</th>\n",
              "      <th>High</th>\n",
              "      <th>Low</th>\n",
              "      <th>Close</th>\n",
              "      <th>Adj Close</th>\n",
              "      <th>Volume</th>\n",
              "    </tr>\n",
              "  </thead>\n",
              "  <tbody>\n",
              "    <tr>\n",
              "      <th>0</th>\n",
              "      <td>2016-12-01</td>\n",
              "      <td>778.549988</td>\n",
              "      <td>778.599976</td>\n",
              "      <td>753.359985</td>\n",
              "      <td>764.330017</td>\n",
              "      <td>764.330017</td>\n",
              "      <td>2867100</td>\n",
              "    </tr>\n",
              "    <tr>\n",
              "      <th>1</th>\n",
              "      <td>2016-12-02</td>\n",
              "      <td>761.900024</td>\n",
              "      <td>770.500000</td>\n",
              "      <td>759.000000</td>\n",
              "      <td>764.460022</td>\n",
              "      <td>764.460022</td>\n",
              "      <td>1718800</td>\n",
              "    </tr>\n",
              "    <tr>\n",
              "      <th>2</th>\n",
              "      <td>2016-12-05</td>\n",
              "      <td>770.000000</td>\n",
              "      <td>780.000000</td>\n",
              "      <td>766.969971</td>\n",
              "      <td>778.219971</td>\n",
              "      <td>778.219971</td>\n",
              "      <td>1688500</td>\n",
              "    </tr>\n",
              "    <tr>\n",
              "      <th>3</th>\n",
              "      <td>2016-12-06</td>\n",
              "      <td>780.190002</td>\n",
              "      <td>785.280029</td>\n",
              "      <td>773.320007</td>\n",
              "      <td>776.179993</td>\n",
              "      <td>776.179993</td>\n",
              "      <td>1734100</td>\n",
              "    </tr>\n",
              "    <tr>\n",
              "      <th>4</th>\n",
              "      <td>2016-12-07</td>\n",
              "      <td>779.950012</td>\n",
              "      <td>792.000000</td>\n",
              "      <td>773.530029</td>\n",
              "      <td>791.469971</td>\n",
              "      <td>791.469971</td>\n",
              "      <td>2029400</td>\n",
              "    </tr>\n",
              "  </tbody>\n",
              "</table>\n",
              "</div>"
            ],
            "text/plain": [
              "         Date        Open        High  ...       Close   Adj Close   Volume\n",
              "0  2016-12-01  778.549988  778.599976  ...  764.330017  764.330017  2867100\n",
              "1  2016-12-02  761.900024  770.500000  ...  764.460022  764.460022  1718800\n",
              "2  2016-12-05  770.000000  780.000000  ...  778.219971  778.219971  1688500\n",
              "3  2016-12-06  780.190002  785.280029  ...  776.179993  776.179993  1734100\n",
              "4  2016-12-07  779.950012  792.000000  ...  791.469971  791.469971  2029400\n",
              "\n",
              "[5 rows x 7 columns]"
            ]
          },
          "metadata": {},
          "execution_count": 2
        }
      ]
    },
    {
      "cell_type": "code",
      "metadata": {
        "id": "FfASxUXCetvI",
        "colab": {
          "base_uri": "https://localhost:8080/",
          "height": 206
        },
        "outputId": "eea62868-d3ab-4b69-a95a-fe8e2e52682a"
      },
      "source": [
        "df.tail()"
      ],
      "execution_count": 3,
      "outputs": [
        {
          "output_type": "execute_result",
          "data": {
            "text/html": [
              "<div>\n",
              "<style scoped>\n",
              "    .dataframe tbody tr th:only-of-type {\n",
              "        vertical-align: middle;\n",
              "    }\n",
              "\n",
              "    .dataframe tbody tr th {\n",
              "        vertical-align: top;\n",
              "    }\n",
              "\n",
              "    .dataframe thead th {\n",
              "        text-align: right;\n",
              "    }\n",
              "</style>\n",
              "<table border=\"1\" class=\"dataframe\">\n",
              "  <thead>\n",
              "    <tr style=\"text-align: right;\">\n",
              "      <th></th>\n",
              "      <th>Date</th>\n",
              "      <th>Open</th>\n",
              "      <th>High</th>\n",
              "      <th>Low</th>\n",
              "      <th>Close</th>\n",
              "      <th>Adj Close</th>\n",
              "      <th>Volume</th>\n",
              "    </tr>\n",
              "  </thead>\n",
              "  <tbody>\n",
              "    <tr>\n",
              "      <th>1252</th>\n",
              "      <td>2021-11-22</td>\n",
              "      <td>2986.649902</td>\n",
              "      <td>2996.590088</td>\n",
              "      <td>2922.949951</td>\n",
              "      <td>2926.040039</td>\n",
              "      <td>2926.040039</td>\n",
              "      <td>1529700</td>\n",
              "    </tr>\n",
              "    <tr>\n",
              "      <th>1253</th>\n",
              "      <td>2021-11-23</td>\n",
              "      <td>2923.060059</td>\n",
              "      <td>2933.199951</td>\n",
              "      <td>2882.300049</td>\n",
              "      <td>2915.639893</td>\n",
              "      <td>2915.639893</td>\n",
              "      <td>1360900</td>\n",
              "    </tr>\n",
              "    <tr>\n",
              "      <th>1254</th>\n",
              "      <td>2021-11-24</td>\n",
              "      <td>2909.469971</td>\n",
              "      <td>2924.989990</td>\n",
              "      <td>2887.459961</td>\n",
              "      <td>2922.399902</td>\n",
              "      <td>2922.399902</td>\n",
              "      <td>902000</td>\n",
              "    </tr>\n",
              "    <tr>\n",
              "      <th>1255</th>\n",
              "      <td>2021-11-26</td>\n",
              "      <td>2886.969971</td>\n",
              "      <td>2891.149902</td>\n",
              "      <td>2836.850098</td>\n",
              "      <td>2843.659912</td>\n",
              "      <td>2843.659912</td>\n",
              "      <td>1523500</td>\n",
              "    </tr>\n",
              "    <tr>\n",
              "      <th>1256</th>\n",
              "      <td>2021-11-29</td>\n",
              "      <td>2880.000000</td>\n",
              "      <td>2925.949951</td>\n",
              "      <td>2877.870117</td>\n",
              "      <td>2910.610107</td>\n",
              "      <td>2910.610107</td>\n",
              "      <td>1629800</td>\n",
              "    </tr>\n",
              "  </tbody>\n",
              "</table>\n",
              "</div>"
            ],
            "text/plain": [
              "            Date         Open         High  ...        Close    Adj Close   Volume\n",
              "1252  2021-11-22  2986.649902  2996.590088  ...  2926.040039  2926.040039  1529700\n",
              "1253  2021-11-23  2923.060059  2933.199951  ...  2915.639893  2915.639893  1360900\n",
              "1254  2021-11-24  2909.469971  2924.989990  ...  2922.399902  2922.399902   902000\n",
              "1255  2021-11-26  2886.969971  2891.149902  ...  2843.659912  2843.659912  1523500\n",
              "1256  2021-11-29  2880.000000  2925.949951  ...  2910.610107  2910.610107  1629800\n",
              "\n",
              "[5 rows x 7 columns]"
            ]
          },
          "metadata": {},
          "execution_count": 3
        }
      ]
    },
    {
      "cell_type": "code",
      "metadata": {
        "id": "xXcEUks3etyz",
        "colab": {
          "base_uri": "https://localhost:8080/"
        },
        "outputId": "700bdb4f-7d18-4bdd-a027-93f9c978f58f"
      },
      "source": [
        "df.shape"
      ],
      "execution_count": 4,
      "outputs": [
        {
          "output_type": "execute_result",
          "data": {
            "text/plain": [
              "(1257, 7)"
            ]
          },
          "metadata": {},
          "execution_count": 4
        }
      ]
    },
    {
      "cell_type": "code",
      "metadata": {
        "id": "YX_yybrxet1a",
        "colab": {
          "base_uri": "https://localhost:8080/"
        },
        "outputId": "279a9af1-7740-4b44-ef8a-722bb42bd393"
      },
      "source": [
        "close_df = df['Close'] # this is our dependent variable for our stock price \n",
        "close_df.shape"
      ],
      "execution_count": 5,
      "outputs": [
        {
          "output_type": "execute_result",
          "data": {
            "text/plain": [
              "(1257,)"
            ]
          },
          "metadata": {},
          "execution_count": 5
        }
      ]
    },
    {
      "cell_type": "code",
      "metadata": {
        "id": "Dn8KNmN5et4P",
        "colab": {
          "base_uri": "https://localhost:8080/"
        },
        "outputId": "828eb2d6-f9cf-4a61-cba3-f0073b0f1171"
      },
      "source": [
        "close_df.describe()"
      ],
      "execution_count": 6,
      "outputs": [
        {
          "output_type": "execute_result",
          "data": {
            "text/plain": [
              "count    1257.000000\n",
              "mean     1406.595044\n",
              "std       552.130782\n",
              "min       764.330017\n",
              "25%      1054.140015\n",
              "50%      1192.530029\n",
              "75%      1518.660034\n",
              "max      2996.770020\n",
              "Name: Close, dtype: float64"
            ]
          },
          "metadata": {},
          "execution_count": 6
        }
      ]
    },
    {
      "cell_type": "code",
      "metadata": {
        "id": "-RQcm4AAet62",
        "colab": {
          "base_uri": "https://localhost:8080/",
          "height": 295
        },
        "outputId": "fce6b9e2-8cd8-43fd-d5ae-377481b22dd7"
      },
      "source": [
        "close_df.hist()\n",
        "plt.xlabel('stocks')\n",
        "plt.ylabel('count')\n",
        "plt.title('Distribution of stocks')\n",
        "plt.show()"
      ],
      "execution_count": 7,
      "outputs": [
        {
          "output_type": "display_data",
          "data": {
            "image/png": "[encoded data removed]",
            "text/plain": [
              "<Figure size 432x288 with 1 Axes>"
            ]
          },
          "metadata": {
            "needs_background": "light"
          }
        }
      ]
    },
    {
      "cell_type": "code",
      "metadata": {
        "id": "sEQSph9jet9t",
        "colab": {
          "base_uri": "https://localhost:8080/",
          "height": 299
        },
        "outputId": "56c3ff31-a9d4-4697-b777-aa9e5f0cd68c"
      },
      "source": [
        "# graph visualisation of stock data\n",
        "plt.style.use('ggplot')\n",
        "plt.plot(close_df)\n",
        "plt.xlabel('Index')\n",
        "plt.ylabel('Stock Price(Close)')\n",
        "plt.title('Apple Stock Price(Close)')\n",
        "plt.show()"
      ],
      "execution_count": 8,
      "outputs": [
        {
          "output_type": "display_data",
          "data": {
            "image/png": "[encoded data removed]",
            "text/plain": [
              "<Figure size 432x288 with 1 Axes>"
            ]
          },
          "metadata": {}
        }
      ]
    },
    {
      "cell_type": "markdown",
      "metadata": {
        "id": "-XHLa6GF-VEI"
      },
      "source": [
        "**Train test split**"
      ]
    },
    {
      "cell_type": "code",
      "metadata": {
        "id": "jqUodz5beuAk",
        "colab": {
          "base_uri": "https://localhost:8080/"
        },
        "outputId": "b2256411-6618-469d-b7cb-b3b5df5e9329"
      },
      "source": [
        "# splitting dataset into trian and test\n",
        "training_size = int(len(close_df) * 0.65) # 65% train size\n",
        "test_size = len(close_df) - training_size # 35% test size\n",
        "train_data, test_data = close_df[0:training_size], close_df[training_size:] \n",
        "test_data.shape\n",
        "train_data.shape"
      ],
      "execution_count": 9,
      "outputs": [
        {
          "output_type": "execute_result",
          "data": {
            "text/plain": [
              "(817,)"
            ]
          },
          "metadata": {},
          "execution_count": 9
        }
      ]
    },
    {
      "cell_type": "markdown",
      "metadata": {
        "id": "GzfE8pQK-ZwQ"
      },
      "source": [
        "**Data sequencing**"
      ]
    },
    {
      "cell_type": "code",
      "metadata": {
        "id": "WYW0iUU1euDM"
      },
      "source": [
        "#converting an array of values into a dataset matrix\n",
        "def create_dataset(dataset, time_step=1):\n",
        "    dataX, dataY = [], []\n",
        "    for i in range(len(dataset) - time_step):\n",
        "        a = dataset.iloc[i:(i+time_step)]\n",
        "        dataX.append(a)\n",
        "        dataY.append(dataset.iloc[i + time_step])\n",
        "    return np.array(dataX), np.array(dataY)"
      ],
      "execution_count": 10,
      "outputs": []
    },
    {
      "cell_type": "code",
      "metadata": {
        "id": "69vukbP3euGC"
      },
      "source": [
        "# splitting dataset into trian and test\n",
        "time_step = 100\n",
        "x_train ,y_train = create_dataset(train_data, time_step)\n",
        "x_test, y_test = create_dataset(test_data, time_step)"
      ],
      "execution_count": 11,
      "outputs": []
    },
    {
      "cell_type": "markdown",
      "metadata": {
        "id": "axEashly-fTQ"
      },
      "source": [
        "**MinMax scaling**"
      ]
    },
    {
      "cell_type": "code",
      "metadata": {
        "id": "AErXkQ4seuIr"
      },
      "source": [
        "from sklearn.preprocessing import MinMaxScaler\n",
        "scaler_x = MinMaxScaler(feature_range= (0,1)) \n",
        "scaler_y = MinMaxScaler(feature_range= (0,1)) \n",
        "\n",
        "scaled_x_train = scaler_x.fit_transform(x_train)\n",
        "scaled_y_train = scaler_y.fit_transform(y_train.reshape(-1, 1))\n",
        "# transformt the test data\n",
        "\n",
        "scaled_x_test = scaler_x.transform(x_test)\n",
        "scaled_y_test = scaler_y.transform(y_test.reshape(-1, 1))"
      ],
      "execution_count": 12,
      "outputs": []
    },
    {
      "cell_type": "markdown",
      "metadata": {
        "id": "jcDFIu5S-ltv"
      },
      "source": [
        "**Reshape data**"
      ]
    },
    {
      "cell_type": "code",
      "metadata": {
        "id": "vroWkkl9faS7",
        "colab": {
          "base_uri": "https://localhost:8080/"
        },
        "outputId": "d9a3f250-171b-4936-b3f2-d2eff273d8b5"
      },
      "source": [
        "# reshape input into 3D in order to fit into LSTM\n",
        "scaled_x_train = scaled_x_train.reshape(scaled_x_train.shape + (1,))\n",
        "scaled_x_test = scaled_x_test.reshape(scaled_x_test.shape + (1,))\n",
        "print(scaled_x_train.shape, scaled_x_test.shape)"
      ],
      "execution_count": 13,
      "outputs": [
        {
          "output_type": "stream",
          "name": "stdout",
          "text": [
            "(717, 100, 1) (340, 100, 1)\n"
          ]
        }
      ]
    },
    {
      "cell_type": "markdown",
      "metadata": {
        "id": "GMw_0zim-qz1"
      },
      "source": [
        "**Creating Model**"
      ]
    },
    {
      "cell_type": "code",
      "metadata": {
        "id": "bhK0AdaGfaQC",
        "colab": {
          "base_uri": "https://localhost:8080/"
        },
        "outputId": "8ef3bddd-1cc7-444b-d501-b2c32c0d38c8"
      },
      "source": [
        "model = Sequential()\n",
        "model.add(layers.LSTM(units=100, return_sequences=True, input_shape=(100,1), dropout=0.2))\n",
        "model.add(layers.LSTM(units=10, return_sequences=True, dropout=0.2))\n",
        "model.add(layers.LSTM(units=10, return_sequences=True, dropout=0.2))\n",
        "model.add(layers.LSTM(units=10, dropout=0.2))\n",
        "model.add(layers.Dense(units=1))\n",
        "model.summary()"
      ],
      "execution_count": 14,
      "outputs": [
        {
          "output_type": "stream",
          "name": "stdout",
          "text": [
            "Model: \"sequential\"\n",
            "_________________________________________________________________\n",
            " Layer (type)                Output Shape              Param #   \n",
            "=================================================================\n",
            " lstm (LSTM)                 (None, 100, 100)          40800     \n",
            "                                                                 \n",
            " lstm_1 (LSTM)               (None, 100, 10)           4440      \n",
            "                                                                 \n",
            " lstm_2 (LSTM)               (None, 100, 10)           840       \n",
            "                                                                 \n",
            " lstm_3 (LSTM)               (None, 10)                840       \n",
            "                                                                 \n",
            " dense (Dense)               (None, 1)                 11        \n",
            "                                                                 \n",
            "=================================================================\n",
            "Total params: 46,931\n",
            "Trainable params: 46,931\n",
            "Non-trainable params: 0\n",
            "_________________________________________________________________\n"
          ]
        }
      ]
    },
    {
      "cell_type": "code",
      "metadata": {
        "id": "BGRoD7SNfaNc"
      },
      "source": [
        "model.compile(loss='mean_squared_error', optimizer='adam')"
      ],
      "execution_count": 15,
      "outputs": []
    },
    {
      "cell_type": "code",
      "metadata": {
        "id": "YWqBTJusfaKm"
      },
      "source": [
        "# implementing early stopping and model check point \n",
        "from tensorflow.keras.callbacks import EarlyStopping\n",
        "from tensorflow.keras.callbacks import ModelCheckpoint\n",
        "\n",
        "# stop training process if the val_loss of the train data is not decreased after 5 epochs\n",
        "es = EarlyStopping(monitor= \"val_loss\" , min_delta= 0, patience= 5, verbose=1)\n",
        "\n",
        "# do not save the weights until and unless the validation loss is not decreased.\n",
        "mc = ModelCheckpoint(filepath= \"saved models/Stacked LSTM for apple Stocks.h5\",\n",
        "                     monitor=\"val_loss\", verbose=1, save_best_only= True)"
      ],
      "execution_count": 16,
      "outputs": []
    },
    {
      "cell_type": "code",
      "metadata": {
        "id": "ALM8EmPhfaHe",
        "colab": {
          "base_uri": "https://localhost:8080/"
        },
        "outputId": "dd221f8a-24c9-487f-bec3-48d6689af615"
      },
      "source": [
        "hist = model.fit(scaled_x_train, scaled_y_train, validation_data=(scaled_x_test, scaled_y_test), \n",
        "epochs=100, batch_size=3, verbose=1, callbacks=[es,mc])"
      ],
      "execution_count": 17,
      "outputs": [
        {
          "output_type": "stream",
          "name": "stdout",
          "text": [
            "Epoch 1/100\n",
            "239/239 [==============================] - ETA: 0s - loss: 0.0145\n",
            "Epoch 00001: val_loss improved from inf to 1.29964, saving model to saved models/Stacked LSTM for apple Stocks.h5\n",
            "239/239 [==============================] - 33s 115ms/step - loss: 0.0145 - val_loss: 1.2996\n",
            "Epoch 2/100\n",
            "239/239 [==============================] - ETA: 0s - loss: 0.0095\n",
            "Epoch 00002: val_loss did not improve from 1.29964\n",
            "239/239 [==============================] - 26s 109ms/step - loss: 0.0095 - val_loss: 1.4062\n",
            "Epoch 3/100\n",
            "239/239 [==============================] - ETA: 0s - loss: 0.0095\n",
            "Epoch 00003: val_loss did not improve from 1.29964\n",
            "239/239 [==============================] - 26s 111ms/step - loss: 0.0095 - val_loss: 1.5062\n",
            "Epoch 4/100\n",
            "239/239 [==============================] - ETA: 0s - loss: 0.0079\n",
            "Epoch 00004: val_loss did not improve from 1.29964\n",
            "239/239 [==============================] - 26s 109ms/step - loss: 0.0079 - val_loss: 1.4328\n",
            "Epoch 5/100\n",
            "239/239 [==============================] - ETA: 0s - loss: 0.0072\n",
            "Epoch 00005: val_loss did not improve from 1.29964\n",
            "239/239 [==============================] - 26s 109ms/step - loss: 0.0072 - val_loss: 1.4135\n",
            "Epoch 6/100\n",
            "239/239 [==============================] - ETA: 0s - loss: 0.0070\n",
            "Epoch 00006: val_loss did not improve from 1.29964\n",
            "239/239 [==============================] - 26s 109ms/step - loss: 0.0070 - val_loss: 1.5845\n",
            "Epoch 00006: early stopping\n"
          ]
        }
      ]
    },
    {
      "cell_type": "code",
      "metadata": {
        "id": "H5J28mp1faFI",
        "colab": {
          "base_uri": "https://localhost:8080/"
        },
        "outputId": "a548d042-afad-4ef6-c8c6-51b1fce35b90"
      },
      "source": [
        "# list all data in history\n",
        "print(hist.history.keys())  #loss and accuracy belongs to input"
      ],
      "execution_count": 18,
      "outputs": [
        {
          "output_type": "stream",
          "name": "stdout",
          "text": [
            "dict_keys(['loss', 'val_loss'])\n"
          ]
        }
      ]
    },
    {
      "cell_type": "code",
      "metadata": {
        "id": "89IhjNS9foEt",
        "colab": {
          "base_uri": "https://localhost:8080/",
          "height": 299
        },
        "outputId": "738a2cfd-a6c7-4ac0-a965-a8427f067e42"
      },
      "source": [
        "# summarize history for loss\n",
        "plt.plot(hist.history['loss'])\n",
        "plt.plot(hist.history['val_loss'])\n",
        "plt.title('model loss')\n",
        "plt.ylabel('loss')\n",
        "plt.xlabel('epoch')\n",
        "plt.legend(['train', 'test'], loc='upper right')\n",
        "plt.show()"
      ],
      "execution_count": 19,
      "outputs": [
        {
          "output_type": "display_data",
          "data": {
            "image/png": "[encoded data removed]",
            "text/plain": [
              "<Figure size 432x288 with 1 Axes>"
            ]
          },
          "metadata": {}
        }
      ]
    },
    {
      "cell_type": "markdown",
      "metadata": {
        "id": "eQf8VhQ0-6fe"
      },
      "source": [
        "**Load model**"
      ]
    },
    {
      "cell_type": "code",
      "metadata": {
        "id": "Zy4mqOAJfoBk"
      },
      "source": [
        "from tensorflow.keras.models import load_model\n",
        "Model = load_model('saved models/Stacked LSTM for apple Stocks.h5')"
      ],
      "execution_count": 20,
      "outputs": []
    },
    {
      "cell_type": "code",
      "metadata": {
        "id": "A7W_2SSKfn-t",
        "colab": {
          "base_uri": "https://localhost:8080/"
        },
        "outputId": "77c48b85-324e-4f0c-ce87-f09e67a3e753"
      },
      "source": [
        "## evaluation on train data\n",
        "Model.evaluate(scaled_x_train, scaled_y_train, batch_size=1)"
      ],
      "execution_count": 21,
      "outputs": [
        {
          "output_type": "stream",
          "name": "stdout",
          "text": [
            "717/717 [==============================] - 16s 20ms/step - loss: 0.0063\n"
          ]
        },
        {
          "output_type": "execute_result",
          "data": {
            "text/plain": [
              "0.006314385216683149"
            ]
          },
          "metadata": {},
          "execution_count": 21
        }
      ]
    },
    {
      "cell_type": "code",
      "metadata": {
        "id": "mIQ9a5qpfn8M",
        "colab": {
          "base_uri": "https://localhost:8080/"
        },
        "outputId": "5c41bb5d-9427-4f57-cd96-d62b92327873"
      },
      "source": [
        "## evaluation on test data\n",
        "Model.evaluate(scaled_x_test, scaled_y_test, batch_size=1)"
      ],
      "execution_count": 22,
      "outputs": [
        {
          "output_type": "stream",
          "name": "stdout",
          "text": [
            "340/340 [==============================] - 7s 21ms/step - loss: 1.2996\n"
          ]
        },
        {
          "output_type": "execute_result",
          "data": {
            "text/plain": [
              "1.2996439933776855"
            ]
          },
          "metadata": {},
          "execution_count": 22
        }
      ]
    },
    {
      "cell_type": "markdown",
      "metadata": {
        "id": "XjS-Sc0o--0s"
      },
      "source": [
        "**Analyze RMSE**"
      ]
    },
    {
      "cell_type": "code",
      "metadata": {
        "id": "-WC4uF7rfaCj"
      },
      "source": [
        "train_pred = Model.predict(scaled_x_train)\n",
        "test_pred = Model.predict(scaled_x_test)"
      ],
      "execution_count": 23,
      "outputs": []
    },
    {
      "cell_type": "code",
      "metadata": {
        "id": "9DL-SbeVfyZW",
        "colab": {
          "base_uri": "https://localhost:8080/"
        },
        "outputId": "54b2cb50-5115-4f4a-fdf8-f06c7da9cd4c"
      },
      "source": [
        "import math\n",
        "from sklearn.metrics import mean_squared_error\n",
        "## rmse on test data\n",
        "math.sqrt(mean_squared_error(scaled_y_test, test_pred))"
      ],
      "execution_count": 24,
      "outputs": [
        {
          "output_type": "execute_result",
          "data": {
            "text/plain": [
              "1.1400191622308524"
            ]
          },
          "metadata": {},
          "execution_count": 24
        }
      ]
    },
    {
      "cell_type": "code",
      "metadata": {
        "colab": {
          "base_uri": "https://localhost:8080/"
        },
        "id": "MW-ypHya_MH_",
        "outputId": "bdac3f44-56fa-46df-f7fb-d63ec4c6d4b4"
      },
      "source": [
        "## rmse on train data\n",
        "math.sqrt(mean_squared_error(scaled_y_train, train_pred))"
      ],
      "execution_count": 25,
      "outputs": [
        {
          "output_type": "execute_result",
          "data": {
            "text/plain": [
              "0.07946308617764848"
            ]
          },
          "metadata": {},
          "execution_count": 25
        }
      ]
    },
    {
      "cell_type": "code",
      "metadata": {
        "id": "x_Vmq1rGfyWe"
      },
      "source": [
        "# Transform Prediction data back into original form\n",
        "inv_train_pred = scaler_y.inverse_transform(train_pred)\n",
        "inv_test_pred = scaler_y.inverse_transform(test_pred)"
      ],
      "execution_count": 26,
      "outputs": []
    },
    {
      "cell_type": "code",
      "metadata": {
        "id": "TEuZWow8fyT3",
        "colab": {
          "base_uri": "https://localhost:8080/"
        },
        "outputId": "fa0ed19a-3713-47af-c626-bc494ad03cc3"
      },
      "source": [
        "# calculate RMSE Performance metrics(Root Mean squared Error) for Train data\n",
        "math.sqrt(mean_squared_error(y_train, inv_train_pred))"
      ],
      "execution_count": 27,
      "outputs": [
        {
          "output_type": "execute_result",
          "data": {
            "text/plain": [
              "50.33430457254528"
            ]
          },
          "metadata": {},
          "execution_count": 27
        }
      ]
    },
    {
      "cell_type": "code",
      "metadata": {
        "id": "ejmjBHxrfyQh",
        "colab": {
          "base_uri": "https://localhost:8080/"
        },
        "outputId": "449dfda6-3032-4610-b2b8-838ea7452ffe"
      },
      "source": [
        "# RMSE for test data\n",
        "math.sqrt(mean_squared_error(y_test, inv_test_pred))"
      ],
      "execution_count": 28,
      "outputs": [
        {
          "output_type": "execute_result",
          "data": {
            "text/plain": [
              "722.1223041756128"
            ]
          },
          "metadata": {},
          "execution_count": 28
        }
      ]
    },
    {
      "cell_type": "markdown",
      "metadata": {
        "id": "tEqUJUvV_TPC"
      },
      "source": [
        "**Results**"
      ]
    },
    {
      "cell_type": "code",
      "metadata": {
        "id": "JOglrJfXfyOJ",
        "colab": {
          "base_uri": "https://localhost:8080/",
          "height": 517
        },
        "outputId": "67ee16cc-8b8a-4bbb-9103-9ad3c095968d"
      },
      "source": [
        "### Plotting \n",
        "plt.figure(figsize=(10, 8))\n",
        "\n",
        "# shift train predictions for plotting(orange)\n",
        "look_back=100\n",
        "trainPredictPlot = np.empty_like(close_df)\n",
        "trainPredictPlot[:] = np.nan\n",
        "trainPredictPlot[look_back:len(inv_train_pred)+look_back] = inv_train_pred.reshape(inv_train_pred.shape[0])\n",
        "\n",
        "# shift test predictions for plotting(green)\n",
        "testPredictPlot = np.empty_like(close_df)\n",
        "testPredictPlot[:] = np.nan\n",
        "testPredictPlot[len(inv_train_pred)+(look_back*2):len(close_df)] = inv_test_pred.reshape(inv_test_pred.shape[0])\n",
        "\n",
        "# plot baseline and predictions (blue)\n",
        "plt.plot(close_df, label='Original')\n",
        "plt.plot(trainPredictPlot, label='Train_pred')\n",
        "plt.plot(testPredictPlot, label='Test_pred')\n",
        "\n",
        "plt.title('Results of Stock Price Prediction')\n",
        "plt.xlabel('Days')\n",
        "plt.ylabel('Stock Price(close)')\n",
        "plt.legend(loc='best')\n",
        "plt.show()"
      ],
      "execution_count": 29,
      "outputs": [
        {
          "output_type": "display_data",
          "data": {
            "image/png": "[encoded data removed]",
            "text/plain": [
              "<Figure size 720x576 with 1 Axes>"
            ]
          },
          "metadata": {}
        }
      ]
    },
    {
      "cell_type": "markdown",
      "metadata": {
        "id": "Py7qj_Hv_bat"
      },
      "source": [
        "**Forecasting**"
      ]
    },
    {
      "cell_type": "code",
      "metadata": {
        "id": "b-vvM8Hbf9Yu",
        "colab": {
          "base_uri": "https://localhost:8080/"
        },
        "outputId": "84085b89-b94b-4ee4-f5ce-99dba8117b76"
      },
      "source": [
        "x_input = y_test[240:].reshape(1,-1)\n",
        "x_input.shape"
      ],
      "execution_count": 30,
      "outputs": [
        {
          "output_type": "execute_result",
          "data": {
            "text/plain": [
              "(1, 100)"
            ]
          },
          "metadata": {},
          "execution_count": 30
        }
      ]
    },
    {
      "cell_type": "code",
      "metadata": {
        "id": "2o84LeD1f9VW"
      },
      "source": [
        "# scale the input data\n",
        "sc_x_input = scaler_x.transform(x_input)"
      ],
      "execution_count": 31,
      "outputs": []
    },
    {
      "cell_type": "code",
      "metadata": {
        "id": "NgrNCwIlf9TB"
      },
      "source": [
        "temp_input = sc_x_input[0].tolist()"
      ],
      "execution_count": 32,
      "outputs": []
    },
    {
      "cell_type": "markdown",
      "metadata": {
        "id": "8Sh63tT3_foV"
      },
      "source": [
        "**1-month prediction**"
      ]
    },
    {
      "cell_type": "code",
      "metadata": {
        "id": "2m7VwHPxf9QK"
      },
      "source": [
        "n_steps = len(temp_input)\n",
        "for i in range(30):\n",
        "    input_ = temp_input[i:]\n",
        "    input_ = np.array(input_).reshape(1, n_steps, 1)\n",
        "    output = Model.predict(input_)[0][0]\n",
        "    temp_input.append(output) "
      ],
      "execution_count": 33,
      "outputs": []
    },
    {
      "cell_type": "code",
      "metadata": {
        "id": "JbmhhYkXf9Nj",
        "colab": {
          "base_uri": "https://localhost:8080/"
        },
        "outputId": "f04c2595-00df-4313-d99f-3b515678bfe2"
      },
      "source": [
        "len(temp_input)"
      ],
      "execution_count": 34,
      "outputs": [
        {
          "output_type": "execute_result",
          "data": {
            "text/plain": [
              "130"
            ]
          },
          "metadata": {},
          "execution_count": 34
        }
      ]
    },
    {
      "cell_type": "code",
      "metadata": {
        "id": "WZ1UxCxcf9Kx"
      },
      "source": [
        "# collect numbers for 100 and 30 days\n",
        "day_new = np.arange(1,101)\n",
        "day_pred = np.arange(101,131)"
      ],
      "execution_count": 35,
      "outputs": []
    },
    {
      "cell_type": "code",
      "metadata": {
        "id": "gaml2PtpgKII",
        "colab": {
          "base_uri": "https://localhost:8080/",
          "height": 299
        },
        "outputId": "bbcb8088-c9bd-4408-99e1-dd347a178b2e"
      },
      "source": [
        "# Partial Plot in which Blue plot is forecast on 30 days\n",
        "plt.plot(day_new, scaler_y.inverse_transform(np.array(temp_input[:100]).reshape(-1,1)), label='100 days')\n",
        "plt.plot(day_pred, scaler_y.inverse_transform(np.array(temp_input[100:]).reshape(-1,1)), label='30 days')\n",
        "plt.xlabel('Days')\n",
        "plt.ylabel('Stock Price')\n",
        "plt.title('Forecast')\n",
        "plt.legend(loc='best')\n",
        "plt.show()"
      ],
      "execution_count": 36,
      "outputs": [
        {
          "output_type": "display_data",
          "data": {
            "image/png": "[encoded data removed]",
            "text/plain": [
              "<Figure size 432x288 with 1 Axes>"
            ]
          },
          "metadata": {}
        }
      ]
    },
    {
      "cell_type": "code",
      "metadata": {
        "id": "tk1le-KkgKFe",
        "colab": {
          "base_uri": "https://localhost:8080/",
          "height": 299
        },
        "outputId": "ce8f88fe-5bbd-406c-cb88-3a41cfd2bd3a"
      },
      "source": [
        "# Plotting the partial Forecast\n",
        "plt.plot(scaler_y.inverse_transform(np.array(temp_input).reshape(-1,1)))\n",
        "plt.xlabel('Days')\n",
        "plt.ylabel('Stock Price')\n",
        "plt.title('Forecast')\n",
        "plt.show()"
      ],
      "execution_count": 37,
      "outputs": [
        {
          "output_type": "display_data",
          "data": {
            "image/png": "[encoded data removed]",
            "text/plain": [
              "<Figure size 432x288 with 1 Axes>"
            ]
          },
          "metadata": {}
        }
      ]
    },
    {
      "cell_type": "code",
      "metadata": {
        "id": "khbcbTlGgKAD",
        "colab": {
          "base_uri": "https://localhost:8080/",
          "height": 299
        },
        "outputId": "2efabeaa-7ffd-4d45-c172-3f9de68160de"
      },
      "source": [
        "# plotting the complete Graph along with 30 days Forecast\n",
        "stock_previous = close_df.to_numpy()\n",
        "stock_30 = scaler_y.inverse_transform(np.array(temp_input[100:]).reshape(1, -1))[0]\n",
        "Total_stock = np.concatenate([stock_previous, stock_30])\n",
        "plt.plot(Total_stock)\n",
        "plt.xlabel('Days')\n",
        "plt.ylabel('Stock Price')\n",
        "plt.title('Complete Stock Price')\n",
        "plt.show()"
      ],
      "execution_count": 38,
      "outputs": [
        {
          "output_type": "display_data",
          "data": {
            "image/png": "[encoded data removed]",
            "text/plain": [
              "<Figure size 432x288 with 1 Axes>"
            ]
          },
          "metadata": {}
        }
      ]
    }
  ]
}