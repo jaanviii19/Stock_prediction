{
  "nbformat": 4,
  "nbformat_minor": 0,
  "metadata": {
    "colab": {
      "name": "CTXR.ipynb",
      "provenance": []
    },
    "kernelspec": {
      "name": "python3",
      "display_name": "Python 3"
    },
    "language_info": {
      "name": "python"
    }
  },
  "cells": [
    {
      "cell_type": "code",
      "metadata": {
        "id": "1sMPHhCneYVx"
      },
      "source": [
        "import pandas as pd\n",
        "import matplotlib.pyplot as plt\n",
        "%matplotlib inline\n",
        "import numpy as np\n",
        "import tensorflow as tf\n",
        "from tensorflow.keras.models import Sequential\n",
        "from tensorflow.keras.layers import Dense\n",
        "from tensorflow.keras.layers import LSTM\n",
        "from sklearn.metrics import confusion_matrix, accuracy_score\n",
        "from tensorflow.keras import layers"
      ],
      "execution_count": 1,
      "outputs": []
    },
    {
      "cell_type": "code",
      "metadata": {
        "id": "K_UsJET2etsX",
        "colab": {
          "base_uri": "https://localhost:8080/",
          "height": 206
        },
        "outputId": "3630b236-ad25-437f-b043-66b074de40f8"
      },
      "source": [
        "df = pd.read_csv('CTXR.csv')\n",
        "df.head()"
      ],
      "execution_count": 2,
      "outputs": [
        {
          "output_type": "execute_result",
          "data": {
            "text/html": [
              "<div>\n",
              "<style scoped>\n",
              "    .dataframe tbody tr th:only-of-type {\n",
              "        vertical-align: middle;\n",
              "    }\n",
              "\n",
              "    .dataframe tbody tr th {\n",
              "        vertical-align: top;\n",
              "    }\n",
              "\n",
              "    .dataframe thead th {\n",
              "        text-align: right;\n",
              "    }\n",
              "</style>\n",
              "<table border=\"1\" class=\"dataframe\">\n",
              "  <thead>\n",
              "    <tr style=\"text-align: right;\">\n",
              "      <th></th>\n",
              "      <th>Date</th>\n",
              "      <th>Open</th>\n",
              "      <th>High</th>\n",
              "      <th>Low</th>\n",
              "      <th>Close</th>\n",
              "      <th>Adj Close</th>\n",
              "      <th>Volume</th>\n",
              "    </tr>\n",
              "  </thead>\n",
              "  <tbody>\n",
              "    <tr>\n",
              "      <th>0</th>\n",
              "      <td>2016-12-01</td>\n",
              "      <td>6.00</td>\n",
              "      <td>6.90</td>\n",
              "      <td>2.550</td>\n",
              "      <td>5.4</td>\n",
              "      <td>5.4</td>\n",
              "      <td>75360</td>\n",
              "    </tr>\n",
              "    <tr>\n",
              "      <th>1</th>\n",
              "      <td>2016-12-02</td>\n",
              "      <td>5.25</td>\n",
              "      <td>5.25</td>\n",
              "      <td>4.800</td>\n",
              "      <td>4.8</td>\n",
              "      <td>4.8</td>\n",
              "      <td>9127</td>\n",
              "    </tr>\n",
              "    <tr>\n",
              "      <th>2</th>\n",
              "      <td>2016-12-05</td>\n",
              "      <td>4.80</td>\n",
              "      <td>4.80</td>\n",
              "      <td>4.800</td>\n",
              "      <td>4.8</td>\n",
              "      <td>4.8</td>\n",
              "      <td>373</td>\n",
              "    </tr>\n",
              "    <tr>\n",
              "      <th>3</th>\n",
              "      <td>2016-12-06</td>\n",
              "      <td>4.80</td>\n",
              "      <td>5.10</td>\n",
              "      <td>4.575</td>\n",
              "      <td>4.8</td>\n",
              "      <td>4.8</td>\n",
              "      <td>12793</td>\n",
              "    </tr>\n",
              "    <tr>\n",
              "      <th>4</th>\n",
              "      <td>2016-12-07</td>\n",
              "      <td>5.40</td>\n",
              "      <td>6.00</td>\n",
              "      <td>4.800</td>\n",
              "      <td>5.4</td>\n",
              "      <td>5.4</td>\n",
              "      <td>92653</td>\n",
              "    </tr>\n",
              "  </tbody>\n",
              "</table>\n",
              "</div>"
            ],
            "text/plain": [
              "         Date  Open  High    Low  Close  Adj Close  Volume\n",
              "0  2016-12-01  6.00  6.90  2.550    5.4        5.4   75360\n",
              "1  2016-12-02  5.25  5.25  4.800    4.8        4.8    9127\n",
              "2  2016-12-05  4.80  4.80  4.800    4.8        4.8     373\n",
              "3  2016-12-06  4.80  5.10  4.575    4.8        4.8   12793\n",
              "4  2016-12-07  5.40  6.00  4.800    5.4        5.4   92653"
            ]
          },
          "metadata": {},
          "execution_count": 2
        }
      ]
    },
    {
      "cell_type": "code",
      "metadata": {
        "id": "FfASxUXCetvI",
        "colab": {
          "base_uri": "https://localhost:8080/",
          "height": 206
        },
        "outputId": "e9dc994e-074c-438f-d6bf-c93294d1a180"
      },
      "source": [
        "df.tail()"
      ],
      "execution_count": 3,
      "outputs": [
        {
          "output_type": "execute_result",
          "data": {
            "text/html": [
              "<div>\n",
              "<style scoped>\n",
              "    .dataframe tbody tr th:only-of-type {\n",
              "        vertical-align: middle;\n",
              "    }\n",
              "\n",
              "    .dataframe tbody tr th {\n",
              "        vertical-align: top;\n",
              "    }\n",
              "\n",
              "    .dataframe thead th {\n",
              "        text-align: right;\n",
              "    }\n",
              "</style>\n",
              "<table border=\"1\" class=\"dataframe\">\n",
              "  <thead>\n",
              "    <tr style=\"text-align: right;\">\n",
              "      <th></th>\n",
              "      <th>Date</th>\n",
              "      <th>Open</th>\n",
              "      <th>High</th>\n",
              "      <th>Low</th>\n",
              "      <th>Close</th>\n",
              "      <th>Adj Close</th>\n",
              "      <th>Volume</th>\n",
              "    </tr>\n",
              "  </thead>\n",
              "  <tbody>\n",
              "    <tr>\n",
              "      <th>1252</th>\n",
              "      <td>2021-11-22</td>\n",
              "      <td>1.72</td>\n",
              "      <td>1.730</td>\n",
              "      <td>1.66</td>\n",
              "      <td>1.70</td>\n",
              "      <td>1.70</td>\n",
              "      <td>1966500</td>\n",
              "    </tr>\n",
              "    <tr>\n",
              "      <th>1253</th>\n",
              "      <td>2021-11-23</td>\n",
              "      <td>1.69</td>\n",
              "      <td>1.710</td>\n",
              "      <td>1.66</td>\n",
              "      <td>1.68</td>\n",
              "      <td>1.68</td>\n",
              "      <td>1106700</td>\n",
              "    </tr>\n",
              "    <tr>\n",
              "      <th>1254</th>\n",
              "      <td>2021-11-24</td>\n",
              "      <td>1.67</td>\n",
              "      <td>1.740</td>\n",
              "      <td>1.66</td>\n",
              "      <td>1.72</td>\n",
              "      <td>1.72</td>\n",
              "      <td>951000</td>\n",
              "    </tr>\n",
              "    <tr>\n",
              "      <th>1255</th>\n",
              "      <td>2021-11-26</td>\n",
              "      <td>1.69</td>\n",
              "      <td>1.718</td>\n",
              "      <td>1.65</td>\n",
              "      <td>1.68</td>\n",
              "      <td>1.68</td>\n",
              "      <td>1093600</td>\n",
              "    </tr>\n",
              "    <tr>\n",
              "      <th>1256</th>\n",
              "      <td>2021-11-29</td>\n",
              "      <td>1.68</td>\n",
              "      <td>1.700</td>\n",
              "      <td>1.61</td>\n",
              "      <td>1.62</td>\n",
              "      <td>1.62</td>\n",
              "      <td>1873300</td>\n",
              "    </tr>\n",
              "  </tbody>\n",
              "</table>\n",
              "</div>"
            ],
            "text/plain": [
              "            Date  Open   High   Low  Close  Adj Close   Volume\n",
              "1252  2021-11-22  1.72  1.730  1.66   1.70       1.70  1966500\n",
              "1253  2021-11-23  1.69  1.710  1.66   1.68       1.68  1106700\n",
              "1254  2021-11-24  1.67  1.740  1.66   1.72       1.72   951000\n",
              "1255  2021-11-26  1.69  1.718  1.65   1.68       1.68  1093600\n",
              "1256  2021-11-29  1.68  1.700  1.61   1.62       1.62  1873300"
            ]
          },
          "metadata": {},
          "execution_count": 3
        }
      ]
    },
    {
      "cell_type": "code",
      "metadata": {
        "id": "xXcEUks3etyz",
        "colab": {
          "base_uri": "https://localhost:8080/"
        },
        "outputId": "79b91457-2462-4cbd-f19d-5e4db8566545"
      },
      "source": [
        "df.shape"
      ],
      "execution_count": 4,
      "outputs": [
        {
          "output_type": "execute_result",
          "data": {
            "text/plain": [
              "(1257, 7)"
            ]
          },
          "metadata": {},
          "execution_count": 4
        }
      ]
    },
    {
      "cell_type": "code",
      "metadata": {
        "id": "YX_yybrxet1a",
        "colab": {
          "base_uri": "https://localhost:8080/"
        },
        "outputId": "2c7808ff-4c3e-4eb9-e771-2590f86dd931"
      },
      "source": [
        "close_df = df['Close'] # this is our dependent variable for our stock price \n",
        "close_df.shape"
      ],
      "execution_count": 5,
      "outputs": [
        {
          "output_type": "execute_result",
          "data": {
            "text/plain": [
              "(1257,)"
            ]
          },
          "metadata": {},
          "execution_count": 5
        }
      ]
    },
    {
      "cell_type": "code",
      "metadata": {
        "id": "Dn8KNmN5et4P",
        "colab": {
          "base_uri": "https://localhost:8080/"
        },
        "outputId": "bc840a6a-fd53-42ae-ab6c-1310ffc4dfb9"
      },
      "source": [
        "close_df.describe()"
      ],
      "execution_count": 6,
      "outputs": [
        {
          "output_type": "execute_result",
          "data": {
            "text/plain": [
              "count    1257.000000\n",
              "mean        2.500572\n",
              "std         2.147084\n",
              "min         0.420000\n",
              "25%         1.070000\n",
              "50%         1.690000\n",
              "75%         3.070000\n",
              "max        13.905000\n",
              "Name: Close, dtype: float64"
            ]
          },
          "metadata": {},
          "execution_count": 6
        }
      ]
    },
    {
      "cell_type": "code",
      "metadata": {
        "id": "-RQcm4AAet62",
        "colab": {
          "base_uri": "https://localhost:8080/",
          "height": 295
        },
        "outputId": "d50a9fdf-b6b0-45e8-f26d-45122a23869b"
      },
      "source": [
        "close_df.hist()\n",
        "plt.xlabel('stocks')\n",
        "plt.ylabel('count')\n",
        "plt.title('Distribution of stocks')\n",
        "plt.show()"
      ],
      "execution_count": 7,
      "outputs": [
        {
          "output_type": "display_data",
          "data": {
            "image/png": "[encoded data removed]",
            "text/plain": [
              "<Figure size 432x288 with 1 Axes>"
            ]
          },
          "metadata": {
            "needs_background": "light"
          }
        }
      ]
    },
    {
      "cell_type": "code",
      "metadata": {
        "id": "sEQSph9jet9t",
        "colab": {
          "base_uri": "https://localhost:8080/",
          "height": 299
        },
        "outputId": "4c61455e-329c-43ca-d236-2e8a84f34a32"
      },
      "source": [
        "# graph visualisation of stock data\n",
        "plt.style.use('ggplot')\n",
        "plt.plot(close_df)\n",
        "plt.xlabel('Index')\n",
        "plt.ylabel('Stock Price(Close)')\n",
        "plt.title('CTXR Stock Price(Close)')\n",
        "plt.show()"
      ],
      "execution_count": 8,
      "outputs": [
        {
          "output_type": "display_data",
          "data": {
            "image/png": "[encoded data removed]",
            "text/plain": [
              "<Figure size 432x288 with 1 Axes>"
            ]
          },
          "metadata": {}
        }
      ]
    },
    {
      "cell_type": "code",
      "metadata": {
        "id": "jqUodz5beuAk",
        "colab": {
          "base_uri": "https://localhost:8080/"
        },
        "outputId": "44d619a3-96bd-48b4-f245-7140219ec768"
      },
      "source": [
        "# splitting dataset into trian and test\n",
        "training_size = int(len(close_df) * 0.65) # 65% train size\n",
        "test_size = len(close_df) - training_size # 35% test size\n",
        "train_data, test_data = close_df[0:training_size], close_df[training_size:] \n",
        "test_data.shape\n",
        "train_data.shape"
      ],
      "execution_count": 9,
      "outputs": [
        {
          "output_type": "execute_result",
          "data": {
            "text/plain": [
              "(817,)"
            ]
          },
          "metadata": {},
          "execution_count": 9
        }
      ]
    },
    {
      "cell_type": "code",
      "metadata": {
        "id": "WYW0iUU1euDM"
      },
      "source": [
        "#converting an array of values into a dataset matrix\n",
        "def create_dataset(dataset, time_step=1):\n",
        "    dataX, dataY = [], []\n",
        "    for i in range(len(dataset) - time_step):\n",
        "        a = dataset.iloc[i:(i+time_step)]\n",
        "        dataX.append(a)\n",
        "        dataY.append(dataset.iloc[i + time_step])\n",
        "    return np.array(dataX), np.array(dataY)"
      ],
      "execution_count": 10,
      "outputs": []
    },
    {
      "cell_type": "code",
      "metadata": {
        "id": "69vukbP3euGC"
      },
      "source": [
        "# splitting dataset into trian and test\n",
        "time_step = 100\n",
        "x_train ,y_train = create_dataset(train_data, time_step)\n",
        "x_test, y_test = create_dataset(test_data, time_step)"
      ],
      "execution_count": 11,
      "outputs": []
    },
    {
      "cell_type": "code",
      "metadata": {
        "id": "AErXkQ4seuIr"
      },
      "source": [
        "from sklearn.preprocessing import MinMaxScaler\n",
        "scaler_x = MinMaxScaler(feature_range= (0,1)) \n",
        "scaler_y = MinMaxScaler(feature_range= (0,1)) \n",
        "\n",
        "scaled_x_train = scaler_x.fit_transform(x_train)\n",
        "scaled_y_train = scaler_y.fit_transform(y_train.reshape(-1, 1))\n",
        "# transformt the test data\n",
        "\n",
        "scaled_x_test = scaler_x.transform(x_test)\n",
        "scaled_y_test = scaler_y.transform(y_test.reshape(-1, 1))"
      ],
      "execution_count": 12,
      "outputs": []
    },
    {
      "cell_type": "code",
      "metadata": {
        "id": "vroWkkl9faS7",
        "colab": {
          "base_uri": "https://localhost:8080/"
        },
        "outputId": "bde6b803-987d-41f4-b7af-5544cb0c8bc1"
      },
      "source": [
        "# reshape input into 3D in order to fit into LSTM\n",
        "scaled_x_train = scaled_x_train.reshape(scaled_x_train.shape + (1,))\n",
        "scaled_x_test = scaled_x_test.reshape(scaled_x_test.shape + (1,))\n",
        "print(scaled_x_train.shape, scaled_x_test.shape)"
      ],
      "execution_count": 13,
      "outputs": [
        {
          "output_type": "stream",
          "name": "stdout",
          "text": [
            "(717, 100, 1) (340, 100, 1)\n"
          ]
        }
      ]
    },
    {
      "cell_type": "code",
      "metadata": {
        "id": "bhK0AdaGfaQC",
        "colab": {
          "base_uri": "https://localhost:8080/"
        },
        "outputId": "e72529dd-26c9-4f80-954b-79bdd94fe498"
      },
      "source": [
        "model = Sequential()\n",
        "model.add(layers.LSTM(units=64, return_sequences=True, input_shape=(100,1), dropout=0.2))\n",
        "model.add(layers.LSTM(units=32, return_sequences=True, dropout=0.2))\n",
        "model.add(layers.LSTM(units=32, return_sequences=True, dropout=0.2))\n",
        "model.add(layers.LSTM(units=16, dropout=0.2))\n",
        "model.add(layers.Dense(units=1))\n",
        "model.summary()"
      ],
      "execution_count": 14,
      "outputs": [
        {
          "output_type": "stream",
          "name": "stdout",
          "text": [
            "Model: \"sequential\"\n",
            "_________________________________________________________________\n",
            " Layer (type)                Output Shape              Param #   \n",
            "=================================================================\n",
            " lstm (LSTM)                 (None, 100, 64)           16896     \n",
            "                                                                 \n",
            " lstm_1 (LSTM)               (None, 100, 32)           12416     \n",
            "                                                                 \n",
            " lstm_2 (LSTM)               (None, 100, 32)           8320      \n",
            "                                                                 \n",
            " lstm_3 (LSTM)               (None, 16)                3136      \n",
            "                                                                 \n",
            " dense (Dense)               (None, 1)                 17        \n",
            "                                                                 \n",
            "=================================================================\n",
            "Total params: 40,785\n",
            "Trainable params: 40,785\n",
            "Non-trainable params: 0\n",
            "_________________________________________________________________\n"
          ]
        }
      ]
    },
    {
      "cell_type": "code",
      "metadata": {
        "id": "BGRoD7SNfaNc"
      },
      "source": [
        "model.compile(loss='mean_squared_error', optimizer='adam')"
      ],
      "execution_count": 15,
      "outputs": []
    },
    {
      "cell_type": "code",
      "metadata": {
        "id": "YWqBTJusfaKm"
      },
      "source": [
        "# implementing early stopping and model check point \n",
        "from tensorflow.keras.callbacks import EarlyStopping\n",
        "from tensorflow.keras.callbacks import ModelCheckpoint\n",
        "\n",
        "# stop training process if the val_loss of the train data is not decreased after 5 epochs\n",
        "es = EarlyStopping(monitor= \"val_loss\" , min_delta= 0, patience= 5, verbose=1)\n",
        "\n",
        "# do not save the weights until and unless the validation loss is not decreased.\n",
        "mc = ModelCheckpoint(filepath= \"saved models/Stacked LSTM for CTXR Stocks.h5\",\n",
        "                     monitor=\"val_loss\", verbose=1, save_best_only= True)"
      ],
      "execution_count": 16,
      "outputs": []
    },
    {
      "cell_type": "code",
      "metadata": {
        "id": "ALM8EmPhfaHe",
        "colab": {
          "base_uri": "https://localhost:8080/"
        },
        "outputId": "3699753f-873a-4ba3-d549-2ce1cacbc053"
      },
      "source": [
        "hist = model.fit(scaled_x_train, scaled_y_train, validation_data=(scaled_x_test, scaled_y_test), \n",
        "epochs=100, batch_size=3, verbose=1, callbacks=[es,mc])"
      ],
      "execution_count": 17,
      "outputs": [
        {
          "output_type": "stream",
          "name": "stdout",
          "text": [
            "Epoch 1/100\n",
            "239/239 [==============================] - ETA: 0s - loss: 0.0097\n",
            "Epoch 00001: val_loss improved from inf to 0.00266, saving model to saved models/Stacked LSTM for CTXR Stocks.h5\n",
            "239/239 [==============================] - 32s 110ms/step - loss: 0.0097 - val_loss: 0.0027\n",
            "Epoch 2/100\n",
            "239/239 [==============================] - ETA: 0s - loss: 0.0063\n",
            "Epoch 00002: val_loss improved from 0.00266 to 0.00227, saving model to saved models/Stacked LSTM for CTXR Stocks.h5\n",
            "239/239 [==============================] - 25s 104ms/step - loss: 0.0063 - val_loss: 0.0023\n",
            "Epoch 3/100\n",
            "239/239 [==============================] - ETA: 0s - loss: 0.0061\n",
            "Epoch 00003: val_loss improved from 0.00227 to 0.00201, saving model to saved models/Stacked LSTM for CTXR Stocks.h5\n",
            "239/239 [==============================] - 25s 105ms/step - loss: 0.0061 - val_loss: 0.0020\n",
            "Epoch 4/100\n",
            "239/239 [==============================] - ETA: 0s - loss: 0.0058\n",
            "Epoch 00004: val_loss improved from 0.00201 to 0.00194, saving model to saved models/Stacked LSTM for CTXR Stocks.h5\n",
            "239/239 [==============================] - 25s 103ms/step - loss: 0.0058 - val_loss: 0.0019\n",
            "Epoch 5/100\n",
            "239/239 [==============================] - ETA: 0s - loss: 0.0051\n",
            "Epoch 00005: val_loss improved from 0.00194 to 0.00177, saving model to saved models/Stacked LSTM for CTXR Stocks.h5\n",
            "239/239 [==============================] - 24s 102ms/step - loss: 0.0051 - val_loss: 0.0018\n",
            "Epoch 6/100\n",
            "239/239 [==============================] - ETA: 0s - loss: 0.0044\n",
            "Epoch 00006: val_loss did not improve from 0.00177\n",
            "239/239 [==============================] - 25s 103ms/step - loss: 0.0044 - val_loss: 0.0020\n",
            "Epoch 7/100\n",
            "239/239 [==============================] - ETA: 0s - loss: 0.0047\n",
            "Epoch 00007: val_loss did not improve from 0.00177\n",
            "239/239 [==============================] - 24s 101ms/step - loss: 0.0047 - val_loss: 0.0021\n",
            "Epoch 8/100\n",
            "239/239 [==============================] - ETA: 0s - loss: 0.0046\n",
            "Epoch 00008: val_loss did not improve from 0.00177\n",
            "239/239 [==============================] - 24s 102ms/step - loss: 0.0046 - val_loss: 0.0039\n",
            "Epoch 9/100\n",
            "239/239 [==============================] - ETA: 0s - loss: 0.0041\n",
            "Epoch 00009: val_loss improved from 0.00177 to 0.00165, saving model to saved models/Stacked LSTM for CTXR Stocks.h5\n",
            "239/239 [==============================] - 24s 102ms/step - loss: 0.0041 - val_loss: 0.0016\n",
            "Epoch 10/100\n",
            "239/239 [==============================] - ETA: 0s - loss: 0.0042\n",
            "Epoch 00010: val_loss did not improve from 0.00165\n",
            "239/239 [==============================] - 25s 104ms/step - loss: 0.0042 - val_loss: 0.0030\n",
            "Epoch 11/100\n",
            "239/239 [==============================] - ETA: 0s - loss: 0.0036\n",
            "Epoch 00011: val_loss improved from 0.00165 to 0.00148, saving model to saved models/Stacked LSTM for CTXR Stocks.h5\n",
            "239/239 [==============================] - 25s 105ms/step - loss: 0.0036 - val_loss: 0.0015\n",
            "Epoch 12/100\n",
            "239/239 [==============================] - ETA: 0s - loss: 0.0041\n",
            "Epoch 00012: val_loss did not improve from 0.00148\n",
            "239/239 [==============================] - 24s 102ms/step - loss: 0.0041 - val_loss: 0.0016\n",
            "Epoch 13/100\n",
            "239/239 [==============================] - ETA: 0s - loss: 0.0040\n",
            "Epoch 00013: val_loss did not improve from 0.00148\n",
            "239/239 [==============================] - 24s 102ms/step - loss: 0.0040 - val_loss: 0.0016\n",
            "Epoch 14/100\n",
            "239/239 [==============================] - ETA: 0s - loss: 0.0031\n",
            "Epoch 00014: val_loss did not improve from 0.00148\n",
            "239/239 [==============================] - 25s 103ms/step - loss: 0.0031 - val_loss: 0.0033\n",
            "Epoch 15/100\n",
            "239/239 [==============================] - ETA: 0s - loss: 0.0033\n",
            "Epoch 00015: val_loss improved from 0.00148 to 0.00139, saving model to saved models/Stacked LSTM for CTXR Stocks.h5\n",
            "239/239 [==============================] - 25s 103ms/step - loss: 0.0033 - val_loss: 0.0014\n",
            "Epoch 16/100\n",
            "239/239 [==============================] - ETA: 0s - loss: 0.0031\n",
            "Epoch 00016: val_loss did not improve from 0.00139\n",
            "239/239 [==============================] - 25s 104ms/step - loss: 0.0031 - val_loss: 0.0021\n",
            "Epoch 17/100\n",
            "239/239 [==============================] - ETA: 0s - loss: 0.0027\n",
            "Epoch 00017: val_loss did not improve from 0.00139\n",
            "239/239 [==============================] - 25s 103ms/step - loss: 0.0027 - val_loss: 0.0017\n",
            "Epoch 18/100\n",
            "239/239 [==============================] - ETA: 0s - loss: 0.0028\n",
            "Epoch 00018: val_loss did not improve from 0.00139\n",
            "239/239 [==============================] - 25s 103ms/step - loss: 0.0028 - val_loss: 0.0016\n",
            "Epoch 19/100\n",
            "239/239 [==============================] - ETA: 0s - loss: 0.0026\n",
            "Epoch 00019: val_loss did not improve from 0.00139\n",
            "239/239 [==============================] - 25s 104ms/step - loss: 0.0026 - val_loss: 0.0019\n",
            "Epoch 20/100\n",
            "239/239 [==============================] - ETA: 0s - loss: 0.0025\n",
            "Epoch 00020: val_loss did not improve from 0.00139\n",
            "239/239 [==============================] - 25s 104ms/step - loss: 0.0025 - val_loss: 0.0014\n",
            "Epoch 00020: early stopping\n"
          ]
        }
      ]
    },
    {
      "cell_type": "code",
      "metadata": {
        "id": "H5J28mp1faFI",
        "colab": {
          "base_uri": "https://localhost:8080/"
        },
        "outputId": "e346b326-eb01-4ba1-f56e-01b8640c1aaa"
      },
      "source": [
        "# list all data in history\n",
        "print(hist.history.keys())  #loss and accuracy belongs to input"
      ],
      "execution_count": 18,
      "outputs": [
        {
          "output_type": "stream",
          "name": "stdout",
          "text": [
            "dict_keys(['loss', 'val_loss'])\n"
          ]
        }
      ]
    },
    {
      "cell_type": "code",
      "metadata": {
        "id": "89IhjNS9foEt",
        "colab": {
          "base_uri": "https://localhost:8080/",
          "height": 299
        },
        "outputId": "0beec823-4ddb-4e3d-b0db-602d7fffb456"
      },
      "source": [
        "# summarize history for loss\n",
        "plt.plot(hist.history['loss'])\n",
        "plt.plot(hist.history['val_loss'])\n",
        "plt.title('model loss')\n",
        "plt.ylabel('loss')\n",
        "plt.xlabel('epoch')\n",
        "plt.legend(['train', 'test'], loc='upper right')\n",
        "plt.show()"
      ],
      "execution_count": 19,
      "outputs": [
        {
          "output_type": "display_data",
          "data": {
            "image/png": "[encoded data removed]",
            "text/plain": [
              "<Figure size 432x288 with 1 Axes>"
            ]
          },
          "metadata": {}
        }
      ]
    },
    {
      "cell_type": "code",
      "metadata": {
        "id": "Zy4mqOAJfoBk"
      },
      "source": [
        "from tensorflow.keras.models import load_model\n",
        "Model = load_model('saved models/Stacked LSTM for CTXR Stocks.h5')"
      ],
      "execution_count": 20,
      "outputs": []
    },
    {
      "cell_type": "code",
      "metadata": {
        "id": "A7W_2SSKfn-t",
        "colab": {
          "base_uri": "https://localhost:8080/"
        },
        "outputId": "54229a0b-7489-4f12-8be5-25cca75849f5"
      },
      "source": [
        "## evaluation on train data\n",
        "Model.evaluate(scaled_x_train, scaled_y_train, batch_size=1)"
      ],
      "execution_count": 21,
      "outputs": [
        {
          "output_type": "stream",
          "name": "stdout",
          "text": [
            "717/717 [==============================] - 16s 20ms/step - loss: 0.0023\n"
          ]
        },
        {
          "output_type": "execute_result",
          "data": {
            "text/plain": [
              "0.0023004310205578804"
            ]
          },
          "metadata": {},
          "execution_count": 21
        }
      ]
    },
    {
      "cell_type": "code",
      "metadata": {
        "id": "mIQ9a5qpfn8M",
        "colab": {
          "base_uri": "https://localhost:8080/"
        },
        "outputId": "1d8097de-3618-4fab-fd64-28a5349b2dff"
      },
      "source": [
        "## evaluation on test data\n",
        "Model.evaluate(scaled_x_test, scaled_y_test, batch_size=1)"
      ],
      "execution_count": 22,
      "outputs": [
        {
          "output_type": "stream",
          "name": "stdout",
          "text": [
            "340/340 [==============================] - 6s 19ms/step - loss: 0.0014\n"
          ]
        },
        {
          "output_type": "execute_result",
          "data": {
            "text/plain": [
              "0.0013941077049821615"
            ]
          },
          "metadata": {},
          "execution_count": 22
        }
      ]
    },
    {
      "cell_type": "code",
      "metadata": {
        "id": "-WC4uF7rfaCj"
      },
      "source": [
        "train_pred = Model.predict(scaled_x_train)\n",
        "test_pred = Model.predict(scaled_x_test)"
      ],
      "execution_count": 23,
      "outputs": []
    },
    {
      "cell_type": "code",
      "metadata": {
        "id": "9DL-SbeVfyZW",
        "colab": {
          "base_uri": "https://localhost:8080/"
        },
        "outputId": "7e25e077-f0ad-4a6b-dc04-80b51ae63376"
      },
      "source": [
        "import math\n",
        "from sklearn.metrics import mean_squared_error\n",
        "## rmse on test data\n",
        "math.sqrt(mean_squared_error(scaled_y_test, test_pred))"
      ],
      "execution_count": 24,
      "outputs": [
        {
          "output_type": "execute_result",
          "data": {
            "text/plain": [
              "0.037337751218059996"
            ]
          },
          "metadata": {},
          "execution_count": 24
        }
      ]
    },
    {
      "cell_type": "code",
      "metadata": {
        "id": "x_Vmq1rGfyWe"
      },
      "source": [
        "# Transform Prediction data back into original form\n",
        "inv_train_pred = scaler_y.inverse_transform(train_pred)\n",
        "inv_test_pred = scaler_y.inverse_transform(test_pred)"
      ],
      "execution_count": 25,
      "outputs": []
    },
    {
      "cell_type": "code",
      "metadata": {
        "id": "TEuZWow8fyT3",
        "colab": {
          "base_uri": "https://localhost:8080/"
        },
        "outputId": "184c6b0f-36f3-4853-c5e2-447a9cb33182"
      },
      "source": [
        "# calculate RMSE Performance metrics(Root Mean squared Error) for Train data\n",
        "math.sqrt(mean_squared_error(y_train, inv_train_pred))"
      ],
      "execution_count": 26,
      "outputs": [
        {
          "output_type": "execute_result",
          "data": {
            "text/plain": [
              "0.35876185594004684"
            ]
          },
          "metadata": {},
          "execution_count": 26
        }
      ]
    },
    {
      "cell_type": "code",
      "metadata": {
        "id": "ejmjBHxrfyQh",
        "colab": {
          "base_uri": "https://localhost:8080/"
        },
        "outputId": "e7090c39-c9fe-45c6-e1a2-0fd9e5d794e2"
      },
      "source": [
        "# RMSE for test data\n",
        "math.sqrt(mean_squared_error(y_test, inv_test_pred))"
      ],
      "execution_count": 27,
      "outputs": [
        {
          "output_type": "execute_result",
          "data": {
            "text/plain": [
              "0.27928639068253447"
            ]
          },
          "metadata": {},
          "execution_count": 27
        }
      ]
    },
    {
      "cell_type": "code",
      "metadata": {
        "id": "JOglrJfXfyOJ",
        "colab": {
          "base_uri": "https://localhost:8080/",
          "height": 517
        },
        "outputId": "22792c4d-944d-4ff6-f8ca-09e4fda33874"
      },
      "source": [
        "### Plotting \n",
        "plt.figure(figsize=(10, 8))\n",
        "\n",
        "# shift train predictions for plotting(orange)\n",
        "look_back=100\n",
        "trainPredictPlot = np.empty_like(close_df)\n",
        "trainPredictPlot[:] = np.nan\n",
        "trainPredictPlot[look_back:len(inv_train_pred)+look_back] = inv_train_pred.reshape(inv_train_pred.shape[0])\n",
        "\n",
        "# shift test predictions for plotting(green)\n",
        "testPredictPlot = np.empty_like(close_df)\n",
        "testPredictPlot[:] = np.nan\n",
        "testPredictPlot[len(inv_train_pred)+(look_back*2):len(close_df)] = inv_test_pred.reshape(inv_test_pred.shape[0])\n",
        "\n",
        "# plot baseline and predictions (blue)\n",
        "plt.plot(close_df, label='Original')\n",
        "plt.plot(trainPredictPlot, label='Train_pred')\n",
        "plt.plot(testPredictPlot, label='Test_pred')\n",
        "\n",
        "plt.title('Results of Stock Price Prediction')\n",
        "plt.xlabel('Days')\n",
        "plt.ylabel('Stock Price(close)')\n",
        "plt.legend(loc='best')\n",
        "plt.show()"
      ],
      "execution_count": 28,
      "outputs": [
        {
          "output_type": "display_data",
          "data": {
            "image/png": "[encoded data removed]",
            "text/plain": [
              "<Figure size 720x576 with 1 Axes>"
            ]
          },
          "metadata": {}
        }
      ]
    },
    {
      "cell_type": "code",
      "metadata": {
        "id": "b-vvM8Hbf9Yu",
        "colab": {
          "base_uri": "https://localhost:8080/"
        },
        "outputId": "738d2a0f-1b71-4793-dbe5-ab425023db3a"
      },
      "source": [
        "x_input = y_test[240:].reshape(1,-1)\n",
        "x_input.shape"
      ],
      "execution_count": 29,
      "outputs": [
        {
          "output_type": "execute_result",
          "data": {
            "text/plain": [
              "(1, 100)"
            ]
          },
          "metadata": {},
          "execution_count": 29
        }
      ]
    },
    {
      "cell_type": "code",
      "metadata": {
        "id": "2o84LeD1f9VW"
      },
      "source": [
        "# scale the input data\n",
        "sc_x_input = scaler_x.transform(x_input)"
      ],
      "execution_count": 30,
      "outputs": []
    },
    {
      "cell_type": "code",
      "metadata": {
        "id": "NgrNCwIlf9TB"
      },
      "source": [
        "temp_input = sc_x_input[0].tolist()"
      ],
      "execution_count": 31,
      "outputs": []
    },
    {
      "cell_type": "code",
      "metadata": {
        "id": "2m7VwHPxf9QK"
      },
      "source": [
        "n_steps = len(temp_input)\n",
        "for i in range(30):\n",
        "    input_ = temp_input[i:]\n",
        "    input_ = np.array(input_).reshape(1, n_steps, 1)\n",
        "    output = Model.predict(input_)[0][0]\n",
        "    temp_input.append(output) "
      ],
      "execution_count": 32,
      "outputs": []
    },
    {
      "cell_type": "code",
      "metadata": {
        "id": "JbmhhYkXf9Nj",
        "colab": {
          "base_uri": "https://localhost:8080/"
        },
        "outputId": "1f48a294-8aba-4191-a9d0-b50f73f5a662"
      },
      "source": [
        "len(temp_input)"
      ],
      "execution_count": 33,
      "outputs": [
        {
          "output_type": "execute_result",
          "data": {
            "text/plain": [
              "130"
            ]
          },
          "metadata": {},
          "execution_count": 33
        }
      ]
    },
    {
      "cell_type": "code",
      "metadata": {
        "id": "WZ1UxCxcf9Kx"
      },
      "source": [
        "# collect numbers for 100 and 30 days\n",
        "day_new = np.arange(1,101)\n",
        "day_pred = np.arange(101,131)"
      ],
      "execution_count": 34,
      "outputs": []
    },
    {
      "cell_type": "code",
      "metadata": {
        "id": "gaml2PtpgKII",
        "colab": {
          "base_uri": "https://localhost:8080/",
          "height": 299
        },
        "outputId": "35772723-1e20-4af0-c46f-a0b7f2956eda"
      },
      "source": [
        "# Partial Plot in which Blue plot is forecast on 30 days\n",
        "plt.plot(day_new, scaler_y.inverse_transform(np.array(temp_input[:100]).reshape(-1,1)), label='100 days')\n",
        "plt.plot(day_pred, scaler_y.inverse_transform(np.array(temp_input[100:]).reshape(-1,1)), label='30 days')\n",
        "plt.xlabel('Days')\n",
        "plt.ylabel('Stock Price')\n",
        "plt.title('Forecast')\n",
        "plt.legend(loc='best')\n",
        "plt.show()"
      ],
      "execution_count": 35,
      "outputs": [
        {
          "output_type": "display_data",
          "data": {
            "image/png": "[encoded data removed]",
            "text/plain": [
              "<Figure size 432x288 with 1 Axes>"
            ]
          },
          "metadata": {}
        }
      ]
    },
    {
      "cell_type": "code",
      "metadata": {
        "id": "tk1le-KkgKFe",
        "colab": {
          "base_uri": "https://localhost:8080/",
          "height": 299
        },
        "outputId": "3b2379a2-f825-493b-9212-92ec99743c4d"
      },
      "source": [
        "# Plotting the partial Forecast\n",
        "plt.plot(scaler_y.inverse_transform(np.array(temp_input).reshape(-1,1)))\n",
        "plt.xlabel('Days')\n",
        "plt.ylabel('Stock Price')\n",
        "plt.title('Forecast')\n",
        "plt.show()"
      ],
      "execution_count": 36,
      "outputs": [
        {
          "output_type": "display_data",
          "data": {
            "image/png": "[encoded data removed]",
            "text/plain": [
              "<Figure size 432x288 with 1 Axes>"
            ]
          },
          "metadata": {}
        }
      ]
    },
    {
      "cell_type": "code",
      "metadata": {
        "id": "khbcbTlGgKAD",
        "colab": {
          "base_uri": "https://localhost:8080/",
          "height": 299
        },
        "outputId": "0704d3eb-1b4b-4670-e58f-6df859afd34c"
      },
      "source": [
        "# plotting the complete Graph along with 30 days Forecast\n",
        "stock_previous = close_df.to_numpy()\n",
        "stock_30 = scaler_y.inverse_transform(np.array(temp_input[100:]).reshape(1, -1))[0]\n",
        "Total_stock = np.concatenate([stock_previous, stock_30])\n",
        "plt.plot(Total_stock)\n",
        "plt.xlabel('Days')\n",
        "plt.ylabel('Stock Price')\n",
        "plt.title('Complete Stock Price')\n",
        "plt.show()"
      ],
      "execution_count": 37,
      "outputs": [
        {
          "output_type": "display_data",
          "data": {
            "image/png": "[encoded data removed]",
            "text/plain": [
              "<Figure size 432x288 with 1 Axes>"
            ]
          },
          "metadata": {}
        }
      ]
    }
  ]
}